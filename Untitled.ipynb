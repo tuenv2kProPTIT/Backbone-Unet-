{
 "cells": [
  {
   "cell_type": "code",
   "execution_count": 1,
   "metadata": {},
   "outputs": [],
   "source": [
    "import torch\n",
    "import numpy as np\n",
    "import json\n",
    "import cv2\n",
    "import torch.nn as nn"
   ]
  },
  {
   "cell_type": "code",
   "execution_count": 2,
   "metadata": {},
   "outputs": [],
   "source": [
    "def conv_back(input_shape,output_shape):\n",
    "    return nn.Sequential(*[\n",
    "        nn.Conv2d(in_channels=input_shape,out_channels=output_shape,kernel_size=3,padding=1),\n",
    "        nn.BatchNorm2d(output_shape),\n",
    "        nn.ReLU(),\n",
    "        nn.MaxPool2d(kernel_size=2,stride=2)\n",
    "    ])\n",
    "\n",
    "class Model(nn.Module):\n",
    "    def __init__(self,**kwags):\n",
    "        super().__init__()\n",
    "        \n",
    "        self.conv1 = conv_back(3,15)\n",
    "        self.conv2 = conv_back(15,30)\n",
    "        self.conv3 = conv_back(30,45)\n",
    "        \n",
    "        self.avg = nn.AdaptiveAvgPool2d(output_size=(1,1))\n",
    "        \n",
    "        self.fc1 = nn.Linear(45,100)\n",
    "        self.fc2 = nn.Linear(100,100)\n",
    "        self.fc3 = nn.Linear(100,6)\n",
    "        \n",
    "        self.act = nn.ReLU()\n",
    "    \n",
    "    def forward(self,x):\n",
    "        x = self.conv1(x)\n",
    "        x=self.conv2(x)\n",
    "        x=self.conv3(x)\n",
    "        \n",
    "        avg = self.avg(x)\n",
    "        \n",
    "        size = avg.size(1)\n",
    "        \n",
    "        avg = avg.view(-1,size)\n",
    "        \n",
    "        out = self.fc1(avg)\n",
    "        \n",
    "        out = self.act(out)\n",
    "        out = self.act(self.fc2(out))\n",
    "        out =self.fc3(out)\n",
    "        return out\n",
    "        "
   ]
  },
  {
   "cell_type": "code",
   "execution_count": 14,
   "metadata": {},
   "outputs": [],
   "source": [
    "import os,glob,sys\n",
    "imgs_path = []\n",
    "words = []\n",
    "txt_path = \"./SignDataset/labels_sign.txt\"\n",
    "f = open(txt_path,'r')\n",
    "basename_= os.path.basename(txt_path)\n",
    "lines = f.readlines()\n",
    "isFirst = True\n",
    "labels = []\n",
    "for line in lines:\n",
    "    line = line.rstrip()\n",
    "    if line.startswith('#'):\n",
    "        if isFirst is True:\n",
    "            isFirst = False\n",
    "        else:\n",
    "            labels_copy = labels.copy()\n",
    "            words.append(labels_copy)\n",
    "            labels.clear()\n",
    "        path = line[2:]\n",
    "        path = txt_path.replace(basename_,'') + path\n",
    "        imgs_path.append(path)\n",
    "    else:\n",
    "        line = line.split(' ')\n",
    "        label = [float(x) for x in line]\n",
    "        labels.append(label)\n",
    "\n",
    "words.append(labels)"
   ]
  },
  {
   "cell_type": "code",
   "execution_count": 15,
   "metadata": {},
   "outputs": [],
   "source": [
    "def crop_img(img,box):\n",
    "    x1,y1,w,h,label  =box\n",
    "    roi = img[int(y1):int(y1+h),int(x1):int(x1+w),...].copy()\n",
    "    return roi,int(label)\n"
   ]
  },
  {
   "cell_type": "code",
   "execution_count": 16,
   "metadata": {},
   "outputs": [],
   "source": [
    "img = cv2.imread(imgs_path[0])"
   ]
  },
  {
   "cell_type": "code",
   "execution_count": 17,
   "metadata": {},
   "outputs": [],
   "source": [
    "roi,label = crop_img(img,words[0][0])"
   ]
  },
  {
   "cell_type": "code",
   "execution_count": 18,
   "metadata": {},
   "outputs": [
    {
     "data": {
      "text/plain": [
       "<matplotlib.image.AxesImage at 0x7f33112192e0>"
      ]
     },
     "execution_count": 18,
     "metadata": {},
     "output_type": "execute_result"
    },
    {
     "data": {
      "image/png": "[encoded data removed]",
      "text/plain": [
       "<Figure size 432x288 with 1 Axes>"
      ]
     },
     "metadata": {
      "needs_background": "light"
     },
     "output_type": "display_data"
    }
   ],
   "source": [
    "import matplotlib.pyplot as plt\n",
    "plt.imshow(roi)"
   ]
  },
  {
   "cell_type": "code",
   "execution_count": 19,
   "metadata": {},
   "outputs": [],
   "source": [
    "def save_imgs(roi,label):\n",
    "    base=\"./classifier/{}\".format(label)\n",
    "    if os.path.exists(base) == False:\n",
    "        os.mkdir(base)\n",
    "    offset = len(list(glob.glob(os.path.join(base,\"*.png\")))) + 1\n",
    "    base= os.path.join(base,\"{:05d}.png\".format(offset))\n",
    "    cv2.imwrite(base,roi)"
   ]
  },
  {
   "cell_type": "code",
   "execution_count": 20,
   "metadata": {},
   "outputs": [],
   "source": [
    "for img_path,box in zip(imgs_path,words):\n",
    "    img = cv2.imread(img_path)\n",
    "    for b in box:\n",
    "        roi,label = crop_img(img,b)\n",
    "        save_imgs(roi,label)"
   ]
  },
  {
   "cell_type": "code",
   "execution_count": 52,
   "metadata": {},
   "outputs": [],
   "source": [
    "class DataSet(torch.utils.data.Dataset):\n",
    "    def __init__(self):\n",
    "        self.imgs = []\n",
    "        for i in range(6):\n",
    "            self.imgs = self.imgs + list(glob.glob(os.path.join(\"./classifier/{}\".format(i),\"*.png\")))\n",
    "        np.random.shuffle(self.imgs)\n",
    "        self.train = self.imgs[:-20]\n",
    "        self.val = self.imgs[-20:]\n",
    "        self.training =True\n",
    "    \n",
    "    def __len__(self):\n",
    "        if self.training:return len(self.train)\n",
    "        else:return len(self.val)\n",
    "    \n",
    "    def __getitem__(self,index):\n",
    "        path  = self.train[index]\n",
    "        if self.training == False:path =self.val[index]\n",
    "        \n",
    "        img = cv2.imread(path)\n",
    "        img = cv2.resize(img,(48,48))\n",
    "        \n",
    "        img =img/ 255.\n",
    "        label = int(path.split(os.path.sep)[-2])\n",
    "        img = img.transpose(2,0,1)\n",
    "        return img,label"
   ]
  },
  {
   "cell_type": "code",
   "execution_count": 53,
   "metadata": {},
   "outputs": [],
   "source": [
    "def fn_colated(batch):\n",
    "    imgs,label = zip(*batch)\n",
    "    imgs = np.stack(imgs,0)\n",
    "    \n",
    "    return torch.from_numpy(imgs),torch.LongTensor(label)"
   ]
  },
  {
   "cell_type": "code",
   "execution_count": 54,
   "metadata": {},
   "outputs": [],
   "source": [
    "train = DataSet()\n",
    "val = DataSet()\n",
    "val.training = False\n",
    "train_load = torch.utils.data.DataLoader(train,batch_size = 32,collate_fn = fn_colated)\n",
    "val_load =torch.utils.data.DataLoader(val,batch_size = 1,collate_fn = fn_colated)"
   ]
  },
  {
   "cell_type": "code",
   "execution_count": 55,
   "metadata": {},
   "outputs": [
    {
     "data": {
      "text/plain": [
       "(array([[[0.37254902, 0.37254902, 0.38039216, ..., 0.10980392,\n",
       "          0.10588235, 0.10588235],\n",
       "         [0.37254902, 0.37254902, 0.38039216, ..., 0.10980392,\n",
       "          0.10588235, 0.10588235],\n",
       "         [0.37254902, 0.37254902, 0.38039216, ..., 0.10980392,\n",
       "          0.10588235, 0.10588235],\n",
       "         ...,\n",
       "         [0.38823529, 0.38823529, 0.39215686, ..., 0.12941176,\n",
       "          0.12941176, 0.12941176],\n",
       "         [0.37254902, 0.37254902, 0.38039216, ..., 0.12156863,\n",
       "          0.1254902 , 0.1254902 ],\n",
       "         [0.37254902, 0.37254902, 0.38039216, ..., 0.1254902 ,\n",
       "          0.1254902 , 0.1254902 ]],\n",
       " \n",
       "        [[0.41960784, 0.41960784, 0.42352941, ..., 0.11764706,\n",
       "          0.11372549, 0.11372549],\n",
       "         [0.41960784, 0.41960784, 0.42352941, ..., 0.11764706,\n",
       "          0.11372549, 0.11372549],\n",
       "         [0.42352941, 0.42352941, 0.42745098, ..., 0.11372549,\n",
       "          0.10588235, 0.10588235],\n",
       "         ...,\n",
       "         [0.45490196, 0.45490196, 0.45882353, ..., 0.12156863,\n",
       "          0.12156863, 0.12156863],\n",
       "         [0.44313725, 0.44313725, 0.44705882, ..., 0.11764706,\n",
       "          0.12156863, 0.12156863],\n",
       "         [0.44313725, 0.44313725, 0.44705882, ..., 0.11764706,\n",
       "          0.12156863, 0.12156863]],\n",
       " \n",
       "        [[0.56078431, 0.56078431, 0.56470588, ..., 0.15294118,\n",
       "          0.14509804, 0.14509804],\n",
       "         [0.56078431, 0.56078431, 0.56862745, ..., 0.15294118,\n",
       "          0.14509804, 0.14509804],\n",
       "         [0.56470588, 0.56470588, 0.56862745, ..., 0.16078431,\n",
       "          0.15294118, 0.15294118],\n",
       "         ...,\n",
       "         [0.60392157, 0.60392157, 0.61176471, ..., 0.14509804,\n",
       "          0.1372549 , 0.1372549 ],\n",
       "         [0.58823529, 0.58823529, 0.59607843, ..., 0.13333333,\n",
       "          0.12941176, 0.12941176],\n",
       "         [0.58823529, 0.58823529, 0.59607843, ..., 0.13333333,\n",
       "          0.12941176, 0.12941176]]]),\n",
       " 4)"
      ]
     },
     "execution_count": 55,
     "metadata": {},
     "output_type": "execute_result"
    }
   ],
   "source": [
    "train[0]"
   ]
  },
  {
   "cell_type": "code",
   "execution_count": 56,
   "metadata": {},
   "outputs": [],
   "source": [
    "from tqdm import tqdm_notebook as tqdm"
   ]
  },
  {
   "cell_type": "code",
   "execution_count": 66,
   "metadata": {},
   "outputs": [],
   "source": [
    "def get_acc(out, target):\n",
    "    outx = torch.argmax(out,1)\n",
    "    sum_acc = torch.sum(outx==target).float()\n",
    "    return sum_acc / out.size(0)\n",
    "\n",
    "def train(model, optimizer, loss_fc, data):\n",
    "    loss_all = 0.\n",
    "    acc_all = 0.\n",
    "    model  =model.to(\"cuda\")\n",
    "    with tqdm(data, desc=\"training\", file=sys.stdout, disable=False) as iterator:\n",
    "        for imgs,label in iterator:\n",
    "            imgs = imgs.to(\"cuda\").float()\n",
    "            label = label.to(\"cuda\")\n",
    "            optimizer.zero_grad()\n",
    "            out = model(imgs)\n",
    "            loss = loss_fc(out,label)\n",
    "            loss.backward()\n",
    "            optimizer.step()\n",
    "            acc = get_acc(out,label)\n",
    "            iterator.set_postfix_str(f\"loss {loss.item()} acc {acc.item()}\")\n",
    "            acc_all+=acc\n",
    "            loss_all+=loss.item()\n",
    "    return loss_all,acc_all"
   ]
  },
  {
   "cell_type": "code",
   "execution_count": 67,
   "metadata": {},
   "outputs": [],
   "source": [
    "loss_f = nn.CrossEntropyLoss()\n",
    "loss_f = loss_f.to(\"cuda\")\n",
    "optimizer = torch.optim.Adam(model.parameters(),lr = 1e-4)"
   ]
  },
  {
   "cell_type": "code",
   "execution_count": 68,
   "metadata": {},
   "outputs": [
    {
     "name": "stdout",
     "output_type": "stream",
     "text": [
      "32181\n"
     ]
    }
   ],
   "source": [
    "print(sum([i.numel() for  i in model.parameters()]))"
   ]
  },
  {
   "cell_type": "code",
   "execution_count": 69,
   "metadata": {},
   "outputs": [
    {
     "name": "stderr",
     "output_type": "stream",
     "text": [
      "<ipython-input-66-a1f447835ce9>:10: TqdmDeprecationWarning: This function will be removed in tqdm==5.0.0\n",
      "Please use `tqdm.notebook.tqdm` instead of `tqdm.tqdm_notebook`\n",
      "  with tqdm(data, desc=\"training\", file=sys.stdout, disable=False) as iterator:\n"
     ]
    },
    {
     "data": {
      "application/vnd.jupyter.widget-view+json": {
       "model_id": "fba6e3e27fe9414b9241b565e1871afd",
       "version_major": 2,
       "version_minor": 0
      },
      "text/plain": [
       "HBox(children=(HTML(value='training'), FloatProgress(value=0.0, max=55.0), HTML(value='')))"
      ]
     },
     "metadata": {},
     "output_type": "display_data"
    },
    {
     "name": "stdout",
     "output_type": "stream",
     "text": [
      "\n"
     ]
    },
    {
     "data": {
      "text/plain": [
       "(79.7787915468216, tensor(28.2902, device='cuda:0'))"
      ]
     },
     "execution_count": 69,
     "metadata": {},
     "output_type": "execute_result"
    }
   ],
   "source": [
    "train(model,optimizer,loss_f,train_load)"
   ]
  },
  {
   "cell_type": "code",
   "execution_count": 71,
   "metadata": {},
   "outputs": [
    {
     "name": "stderr",
     "output_type": "stream",
     "text": [
      "<ipython-input-66-a1f447835ce9>:10: TqdmDeprecationWarning: This function will be removed in tqdm==5.0.0\n",
      "Please use `tqdm.notebook.tqdm` instead of `tqdm.tqdm_notebook`\n",
      "  with tqdm(data, desc=\"training\", file=sys.stdout, disable=False) as iterator:\n"
     ]
    },
    {
     "data": {
      "application/vnd.jupyter.widget-view+json": {
       "model_id": "acfd315566ac4371b23035b478b5cd6e",
       "version_major": 2,
       "version_minor": 0
      },
      "text/plain": [
       "HBox(children=(HTML(value='training'), FloatProgress(value=0.0, max=55.0), HTML(value='')))"
      ]
     },
     "metadata": {},
     "output_type": "display_data"
    },
    {
     "name": "stdout",
     "output_type": "stream",
     "text": [
      "\n",
      "loss 1.4027976049110293 acc_all 54.875\n"
     ]
    },
    {
     "data": {
      "application/vnd.jupyter.widget-view+json": {
       "model_id": "38e408665dc24c82be1adf1ee52af1bd",
       "version_major": 2,
       "version_minor": 0
      },
      "text/plain": [
       "HBox(children=(HTML(value='training'), FloatProgress(value=0.0, max=55.0), HTML(value='')))"
      ]
     },
     "metadata": {},
     "output_type": "display_data"
    },
    {
     "name": "stdout",
     "output_type": "stream",
     "text": [
      "\n",
      "loss 1.3377497652545571 acc_all 54.875\n"
     ]
    },
    {
     "data": {
      "application/vnd.jupyter.widget-view+json": {
       "model_id": "4950513a06e8434bbc82a5bbcab59e9b",
       "version_major": 2,
       "version_minor": 0
      },
      "text/plain": [
       "HBox(children=(HTML(value='training'), FloatProgress(value=0.0, max=55.0), HTML(value='')))"
      ]
     },
     "metadata": {},
     "output_type": "display_data"
    },
    {
     "name": "stdout",
     "output_type": "stream",
     "text": [
      "\n",
      "loss 1.271607558708638 acc_all 54.875\n"
     ]
    }
   ],
   "source": [
    "for i in range(3):\n",
    "    loss_all,acc_all = train(model,optimizer,loss_f,train_load)\n",
    "    print(f\"loss {loss_all} acc_all {acc_all}\")"
   ]
  },
  {
   "cell_type": "code",
   "execution_count": 72,
   "metadata": {},
   "outputs": [
    {
     "name": "stderr",
     "output_type": "stream",
     "text": [
      "/home/tuenguyen/anaconda3/lib/python3.8/site-packages/torch/serialization.py:397: UserWarning: Couldn't retrieve source code for container of type Model. It won't be checked for correctness upon loading.\n",
      "  warnings.warn(\"Couldn't retrieve source code for container of \"\n"
     ]
    }
   ],
   "source": [
    "torch.save(model,\"./best.pth\",_use_new_zipfile_serialization=False)"
   ]
  },
  {
   "cell_type": "code",
   "execution_count": null,
   "metadata": {},
   "outputs": [],
   "source": []
  }
 ],
 "metadata": {
  "kernelspec": {
   "display_name": "Python 3",
   "language": "python",
   "name": "python3"
  },
  "language_info": {
   "codemirror_mode": {
    "name": "ipython",
    "version": 3
   },
   "file_extension": ".py",
   "mimetype": "text/x-python",
   "name": "python",
   "nbconvert_exporter": "python",
   "pygments_lexer": "ipython3",
   "version": "3.8.5"
  }
 },
 "nbformat": 4,
 "nbformat_minor": 4
}
