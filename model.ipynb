{
 "cells": [
  {
   "cell_type": "code",
   "execution_count": 7,
   "metadata": {},
   "outputs": [],
   "source": [
    "from src.mobile_net import MobileNetV2Encoder,mobilenet_encoders\n",
    "from src.resnet_backbone import ResNetEncoder,resnet_encoders\n",
    "from src.dense_net_backbone import DenseNetEncoder, densenet_encoders\n",
    "from src.vgg_backbone import VGGEncoder, vgg_encoders\n",
    "\n",
    "from src.unet_plus import UnetPlusPlus\n",
    "import torch\n",
    "import numpy as np\n",
    "import pandas as pd\n",
    "import json,os,sys"
   ]
  },
  {
   "cell_type": "code",
   "execution_count": 8,
   "metadata": {},
   "outputs": [
    {
     "name": "stderr",
     "output_type": "stream",
     "text": [
      "Downloading: \"https://download.pytorch.org/models/vgg13_bn-abd245e5.pth\" to /home/tuenguyen/.cache/torch/hub/checkpoints/vgg13_bn-abd245e5.pth\n"
     ]
    },
    {
     "data": {
      "application/vnd.jupyter.widget-view+json": {
       "model_id": "c797c73e940746f1892a60a81d785ada",
       "version_major": 2,
       "version_minor": 0
      },
      "text/plain": [
       "HBox(children=(HTML(value=''), FloatProgress(value=0.0, max=532246301.0), HTML(value='')))"
      ]
     },
     "metadata": {},
     "output_type": "display_data"
    },
    {
     "name": "stdout",
     "output_type": "stream",
     "text": [
      "\n"
     ]
    }
   ],
   "source": [
    "# load encoder\n",
    "\n",
    "model = UnetPlusPlus(encoder_name = \"mobilenet_v2\",\n",
    "                     encoder_depth=5,\n",
    "                     encoder_weights='imagenet',\n",
    "                     dict_encoder=mobilenet_encoders,\n",
    "                     in_channels=3\n",
    "                    )\n",
    "model2 = UnetPlusPlus(\n",
    "                    encoder_name = \"resnet34\",\n",
    "                     encoder_depth=5,\n",
    "                     encoder_weights='imagenet',\n",
    "                     dict_encoder=resnet_encoders,\n",
    "                     in_channels=3\n",
    ")\n",
    "model3 = UnetPlusPlus(\n",
    "             encoder_name = \"resnet18\",\n",
    "                     encoder_depth=5,\n",
    "                     encoder_weights='imagenet',\n",
    "                     dict_encoder=resnet_encoders,\n",
    "                     in_channels=3\n",
    ")\n",
    "model4 =  UnetPlusPlus(\n",
    "             encoder_name = \"resnext50_32x4d\",\n",
    "                     encoder_depth=5,\n",
    "                     encoder_weights='imagenet',\n",
    "                     dict_encoder=resnet_encoders,\n",
    "                     in_channels=3\n",
    ")\n",
    "model5 = UnetPlusPlus(\n",
    "             encoder_name = \"densenet121\",\n",
    "                     encoder_depth=5,\n",
    "                     encoder_weights='imagenet',\n",
    "                     dict_encoder=densenet_encoders,\n",
    "                     in_channels=3\n",
    ")\n",
    "\n",
    "model6 = UnetPlusPlus(\n",
    "             encoder_name = \"vgg13_bn\",\n",
    "                     encoder_depth=5,\n",
    "                     encoder_weights='imagenet',\n",
    "                     dict_encoder=vgg_encoders,\n",
    "                     in_channels=3\n",
    ")\n"
   ]
  },
  {
   "cell_type": "code",
   "execution_count": 11,
   "metadata": {},
   "outputs": [
    {
     "name": "stdout",
     "output_type": "stream",
     "text": [
      "backbone_mobile_netv2 : 6,824,721\n",
      "backbone_resnet34 : 26,078,609\n",
      "backbone_resnet18 : 15,970,449\n",
      "backbone_resnext50_32x4d : 48,457,617\n",
      "backbone_densenet121 : 30,072,273\n",
      "backbone_vgg13_bn : 34,043,537\n"
     ]
    }
   ],
   "source": [
    "print(f\"backbone_mobile_netv2 : {np.sum([i.numel() for i in model.parameters()]):,}\")\n",
    "print(f\"backbone_resnet34 : {np.sum([i.numel() for i in model2.parameters()]):,}\")\n",
    "print(f\"backbone_resnet18 : {np.sum([i.numel() for i in model3.parameters()]):,}\")\n",
    "print(f\"backbone_resnext50_32x4d : {np.sum([i.numel() for i in model4.parameters()]):,}\")\n",
    "print(f\"backbone_densenet121 : {np.sum([i.numel() for i in model5.parameters()]):,}\")\n",
    "print(f\"backbone_vgg13_bn : {np.sum([i.numel() for i in model6.parameters()]):,}\")"
   ]
  },
  {
   "cell_type": "code",
   "execution_count": null,
   "metadata": {},
   "outputs": [],
   "source": [
    "model"
   ]
  }
 ],
 "metadata": {
  "kernelspec": {
   "display_name": "Python 3",
   "language": "python",
   "name": "python3"
  },
  "language_info": {
   "codemirror_mode": {
    "name": "ipython",
    "version": 3
   },
   "file_extension": ".py",
   "mimetype": "text/x-python",
   "name": "python",
   "nbconvert_exporter": "python",
   "pygments_lexer": "ipython3",
   "version": "3.8.5"
  }
 },
 "nbformat": 4,
 "nbformat_minor": 4
}
